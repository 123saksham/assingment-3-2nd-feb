{
 "cells": [
  {
   "cell_type": "code",
   "execution_count": 4,
   "id": "fe4dbc27-fa02-4801-b01a-52be0450e905",
   "metadata": {},
   "outputs": [
    {
     "name": "stdout",
     "output_type": "stream",
     "text": [
      "1\n",
      "2\n",
      "3\n",
      "4\n",
      "5\n",
      "1\n",
      "2\n",
      "3\n",
      "4\n",
      "5\n",
      "6\n",
      "7\n"
     ]
    }
   ],
   "source": [
    "##1 while loop and for loop\n",
    "\"\"\"For loops and while loops are both used for iterating over a block of code repeatedly but for loop is used \n",
    "we know the number of iteration.\"\"\"\n",
    "l=[1,2,3,4,5]\n",
    "for i in l:\n",
    "    print(i)\n",
    "## while loop\n",
    "l=[1,2,3,4,5,6,7,8,9]\n",
    "i=0\n",
    "while i<=6:\n",
    "    print (l[i])\n",
    "    i+=1"
   ]
  },
  {
   "cell_type": "code",
   "execution_count": 9,
   "id": "6e51ccc5-e8f6-483a-93f2-b3acbb7cc290",
   "metadata": {},
   "outputs": [
    {
     "name": "stdout",
     "output_type": "stream",
     "text": [
      "sum = 55\n",
      "product= 3628800\n"
     ]
    }
   ],
   "source": [
    "##2\n",
    "i=1\n",
    "sum=0\n",
    "product=1\n",
    "while i<=10:\n",
    "    sum=sum+i\n",
    "    product=product*i\n",
    "    i+=1\n",
    "print(\"sum\",\"=\",sum)\n",
    "print(\"product\"\"=\",product)\n",
    "\n"
   ]
  },
  {
   "cell_type": "code",
   "execution_count": 18,
   "id": "3c3d0abf-2fcb-41bb-8d68-c65485ee5fb3",
   "metadata": {},
   "outputs": [
    {
     "name": "stdout",
     "output_type": "stream",
     "text": [
      "product = 3628800\n",
      "sum = 55\n"
     ]
    }
   ],
   "source": [
    "##2\n",
    "sum=0\n",
    "product=1\n",
    "for i in list(range(11)):\n",
    "    if i>0:\n",
    "        sum=sum+i\n",
    "        product=product*i\n",
    "print(\"product\",\"=\",product)    \n",
    "print(\"sum\",\"=\",sum)"
   ]
  },
  {
   "cell_type": "code",
   "execution_count": 1,
   "id": "1f99b53b-880a-4887-89c4-7d95eac9cd39",
   "metadata": {},
   "outputs": [
    {
     "name": "stdin",
     "output_type": "stream",
     "text": [
      "enter the number of units 310\n"
     ]
    },
    {
     "name": "stdout",
     "output_type": "stream",
     "text": [
      "2250.0\n"
     ]
    }
   ],
   "source": [
    "##3\n",
    "units=int(input(\"enter the number of units\"))\n",
    "if units <= 100:\n",
    "    bill = units * 4.5\n",
    "    print(bill)\n",
    "elif units <= 200:\n",
    "    bill = 100 * 4.5 + (units - 100) * 6\n",
    "    print(bill)\n",
    "elif units <= 300:\n",
    "    bill = 100 * 4.5 + 100 * 6 + (units - 200) * 10\n",
    "    print(bill)\n",
    "else:\n",
    "    bill = 100 * 4.5 + 100 * 6 + 100 * 10 + (units - 300) * 20\n",
    "    print(bill)\n",
    "    \n",
    "    \n",
    "\n",
    "    "
   ]
  },
  {
   "cell_type": "code",
   "execution_count": 12,
   "id": "9fdbfcdc-567a-4dae-bf5d-576ddc7cb937",
   "metadata": {},
   "outputs": [
    {
     "name": "stdout",
     "output_type": "stream",
     "text": [
      "[2, 4, 5, 6, 8, 10, 12, 14, 15, 16, 18, 20, 22, 24, 25, 26, 28, 30, 32, 34, 35, 36, 38, 40, 42, 44, 45, 46, 48, 50, 52, 54, 55, 56, 58, 60, 62, 64, 65, 66, 68, 70, 72, 74, 75, 76, 78, 80, 82, 84, 85, 86, 88, 90, 92, 94, 95, 96, 98, 100]\n"
     ]
    }
   ],
   "source": [
    "l=list(range(1,101))\n",
    "l1=[]\n",
    "for i in l:\n",
    "    a=i**3\n",
    "    if a%5==0 or a%4==0:\n",
    "        l1.append(i)\n",
    "print(l1)\n",
    "    \n",
    "    \n"
   ]
  },
  {
   "cell_type": "code",
   "execution_count": 26,
   "id": "4bc881c3-cd91-4f18-a590-ad17dff8edae",
   "metadata": {},
   "outputs": [],
   "source": [
    "string = \"I want to become a data scientist\"\n",
    "vowels=[\"I\",\"a\",\"e\",\"i\",\"o\",\"u\"]\n",
    "count=0\n",
    "for x in string:\n",
    "    if x in vowels:\n",
    "        count+=1\n",
    "print()"
   ]
  },
  {
   "cell_type": "code",
   "execution_count": 21,
   "id": "7f75d560-8f5b-4836-92ba-e2314d379667",
   "metadata": {},
   "outputs": [
    {
     "data": {
      "text/plain": [
       "'I'"
      ]
     },
     "execution_count": 21,
     "metadata": {},
     "output_type": "execute_result"
    }
   ],
   "source": []
  },
  {
   "cell_type": "code",
   "execution_count": null,
   "id": "703fe8f4-9319-4dd2-bc67-078fb6c9f90d",
   "metadata": {},
   "outputs": [],
   "source": []
  }
 ],
 "metadata": {
  "kernelspec": {
   "display_name": "Python 3 (ipykernel)",
   "language": "python",
   "name": "python3"
  },
  "language_info": {
   "codemirror_mode": {
    "name": "ipython",
    "version": 3
   },
   "file_extension": ".py",
   "mimetype": "text/x-python",
   "name": "python",
   "nbconvert_exporter": "python",
   "pygments_lexer": "ipython3",
   "version": "3.10.8"
  }
 },
 "nbformat": 4,
 "nbformat_minor": 5
}
